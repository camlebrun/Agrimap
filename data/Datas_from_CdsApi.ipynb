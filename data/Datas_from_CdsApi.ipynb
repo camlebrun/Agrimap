{
 "cells": [
  {
   "cell_type": "code",
   "execution_count": 2,
   "id": "725ddbee-fced-456e-8ca4-534aa5781baf",
   "metadata": {},
   "outputs": [
    {
     "name": "stderr",
     "output_type": "stream",
     "text": [
      "2023-12-14 07:53:18,004 INFO Welcome to the CDS\n",
      "2023-12-14 07:53:18,006 INFO Sending request to https://cds.climate.copernicus.eu/api/v2/resources/sis-biodiversity-cmip5-global\n",
      "2023-12-14 07:53:18,267 INFO Request is completed\n",
      "2023-12-14 07:53:18,271 INFO Downloading https://download-0008-clone.copernicus-climate.eu/cache-compute-0008/cache/data6/dataset-sis-biodiversity-cmip5-global-463850d5-9888-48df-8abd-f92326195c06.zip to download.zip (2.1G)\n",
      "2023-12-14 07:56:40,540 INFO Download rate 10.8M/s    \n"
     ]
    },
    {
     "name": "stdout",
     "output_type": "stream",
     "text": [
      "CPU times: user 16.1 s, sys: 7.15 s, total: 23.2 s\n",
      "Wall time: 3min 23s\n"
     ]
    }
   ],
   "source": [
    "%%time\n",
    "\n",
    "import cdsapi\n",
    "\n",
    "def cds_api_get_series():\n",
    "    c = cdsapi.Client()\n",
    "\n",
    "    url = c.retrieve(\n",
    "        'sis-biodiversity-cmip5-global',\n",
    "        {\n",
    "            'variable': [\n",
    "                'annual_mean_temperature', 'annual_precipitation', 'isothermality',\n",
    "                'maximum_temperature_of_warmest_month', 'mean_diurnal_range', 'mean_temperature_of_coldest_quarter',\n",
    "                'mean_temperature_of_driest_quarter', 'mean_temperature_of_warmest_quarter', 'mean_temperature_of_wettest_quarter',\n",
    "                'minimum_temperature_of_coldest_month', 'potential_evaporation', 'precipitation_of_driest_month', 'precipitation_of_wettest_month',\n",
    "                'precipitation_of_driest_quarter', 'precipitation_of_warmest_quarter', 'precipitation_seasonality',\n",
    "                'temperature_annual_range', 'temperature_seasonality', 'volumetric_soil_water',\n",
    "            ],\n",
    "            'derived_variable': 'annual_mean',\n",
    "            'model': 'ipsl_cm5a_lr',\n",
    "            'ensemble_member': 'r1i1p1',\n",
    "            'experiment': 'rcp8_5',\n",
    "            'temporal_aggregation': 'annual',\n",
    "            'version': '1.0',\n",
    "            'format': 'zip',\n",
    "        },\n",
    "        'download.zip')\n",
    "    return url\n",
    "\n",
    "url = cds_api_get_series()"
   ]
  },
  {
   "cell_type": "code",
   "execution_count": 5,
   "id": "d0a69919-8b51-4b65-b29c-523a9e3c6704",
   "metadata": {},
   "outputs": [
    {
     "name": "stdout",
     "output_type": "stream",
     "text": [
      "The file has been successfully unzipped to ./datas/\n",
      "CPU times: user 21.4 s, sys: 5.75 s, total: 27.2 s\n",
      "Wall time: 3min 50s\n"
     ]
    }
   ],
   "source": [
    "%%time\n",
    "\n",
    "import urllib.request\n",
    "import zipfile\n",
    "\n",
    "def donwload_and_unpack(_url, extract_folder = './datas/'):\n",
    "    # url = \"https://download-0019.copernicus-climate.eu/cache-compute-0019/cache/data7/dataset-sis-biodiversity-cmip5-global-b7132222-134b-49a2-94bd-c096c1c4fd2b.zip\"\n",
    "    zip_file_path = \"temp.zip\"\n",
    "\n",
    "    urllib.request.urlretrieve( _url.location, zip_file_path)\n",
    "\n",
    "    with zipfile.ZipFile(zip_file_path, 'r') as zip_ref:\n",
    "        zip_ref.extractall(extract_folder)\n",
    "    \n",
    "    print(f'The file has been successfully unzipped to {extract_folder}')\n",
    "\n",
    "donwload_and_unpack(url)"
   ]
  }
 ],
 "metadata": {
  "kernelspec": {
   "display_name": "Geo science",
   "language": "python",
   "name": "geo"
  },
  "language_info": {
   "codemirror_mode": {
    "name": "ipython",
    "version": 3
   },
   "file_extension": ".py",
   "mimetype": "text/x-python",
   "name": "python",
   "nbconvert_exporter": "python",
   "pygments_lexer": "ipython3",
   "version": "3.11.4"
  }
 },
 "nbformat": 4,
 "nbformat_minor": 5
}
