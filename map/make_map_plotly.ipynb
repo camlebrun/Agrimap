{
 "cells": [
  {
   "cell_type": "code",
   "execution_count": 1,
   "metadata": {},
   "outputs": [],
   "source": [
    "import joblib\n",
    "import folium\n",
    "import branca.colormap as branca_folium_cm\n",
    "import numpy as np"
   ]
  },
  {
   "cell_type": "code",
   "execution_count": 3,
   "metadata": {},
   "outputs": [
    {
     "data": {
      "text/html": [
       "<div>\n",
       "<style scoped>\n",
       "    .dataframe tbody tr th:only-of-type {\n",
       "        vertical-align: middle;\n",
       "    }\n",
       "\n",
       "    .dataframe tbody tr th {\n",
       "        vertical-align: top;\n",
       "    }\n",
       "\n",
       "    .dataframe thead th {\n",
       "        text-align: right;\n",
       "    }\n",
       "</style>\n",
       "<table border=\"1\" class=\"dataframe\">\n",
       "  <thead>\n",
       "    <tr style=\"text-align: right;\">\n",
       "      <th></th>\n",
       "      <th>x</th>\n",
       "      <th>y</th>\n",
       "      <th>norm</th>\n",
       "    </tr>\n",
       "  </thead>\n",
       "  <tbody>\n",
       "    <tr>\n",
       "      <th>count</th>\n",
       "      <td>192000.000000</td>\n",
       "      <td>192000.000000</td>\n",
       "      <td>192000.000000</td>\n",
       "    </tr>\n",
       "    <tr>\n",
       "      <th>mean</th>\n",
       "      <td>45.000000</td>\n",
       "      <td>40.000000</td>\n",
       "      <td>0.500003</td>\n",
       "    </tr>\n",
       "    <tr>\n",
       "      <th>std</th>\n",
       "      <td>8.659074</td>\n",
       "      <td>28.867228</td>\n",
       "      <td>0.288676</td>\n",
       "    </tr>\n",
       "    <tr>\n",
       "      <th>min</th>\n",
       "      <td>30.250000</td>\n",
       "      <td>-9.750000</td>\n",
       "      <td>0.000005</td>\n",
       "    </tr>\n",
       "    <tr>\n",
       "      <th>25%</th>\n",
       "      <td>37.625000</td>\n",
       "      <td>15.125000</td>\n",
       "      <td>0.250004</td>\n",
       "    </tr>\n",
       "    <tr>\n",
       "      <th>50%</th>\n",
       "      <td>45.000000</td>\n",
       "      <td>40.000000</td>\n",
       "      <td>0.500003</td>\n",
       "    </tr>\n",
       "    <tr>\n",
       "      <th>75%</th>\n",
       "      <td>52.375000</td>\n",
       "      <td>64.875000</td>\n",
       "      <td>0.750001</td>\n",
       "    </tr>\n",
       "    <tr>\n",
       "      <th>max</th>\n",
       "      <td>59.750000</td>\n",
       "      <td>89.750000</td>\n",
       "      <td>1.000000</td>\n",
       "    </tr>\n",
       "  </tbody>\n",
       "</table>\n",
       "</div>"
      ],
      "text/plain": [
       "                   x              y           norm\n",
       "count  192000.000000  192000.000000  192000.000000\n",
       "mean       45.000000      40.000000       0.500003\n",
       "std         8.659074      28.867228       0.288676\n",
       "min        30.250000      -9.750000       0.000005\n",
       "25%        37.625000      15.125000       0.250004\n",
       "50%        45.000000      40.000000       0.500003\n",
       "75%        52.375000      64.875000       0.750001\n",
       "max        59.750000      89.750000       1.000000"
      ]
     },
     "execution_count": 3,
     "metadata": {},
     "output_type": "execute_result"
    }
   ],
   "source": [
    "datas = joblib.load(\"./scores/Bio_score_1950to2100step10.pickle\")\n",
    "datas.describe()"
   ]
  },
  {
   "cell_type": "code",
   "execution_count": 4,
   "metadata": {},
   "outputs": [],
   "source": [
    "def make_df_map_plotly(_datas):\n",
    "    colormap = branca_folium_cm.LinearColormap( colors=['green','red'], vmin=0, vmax=1)\n",
    "    df = _datas[['x','y','norm','geometry']].copy()\n",
    "    df['geometry']= df['geometry'].buffer(1)\n",
    "    df['fill_color']= df['norm'].apply(lambda x: colormap(x))\n",
    "    #datas_geojson = datas_geojson.to_json()\n",
    "    df.set_geometry('geometry',inplace=True)\n",
    "    df = df.set_crs(\"4326\")\n",
    "\n",
    "    df.reset_index(inplace=True)\n",
    "    df['Year'] = df['time'].apply(lambda x: x.year)\n",
    "    return df\n",
    "\n",
    "plot_df = make_df_map_plotly(datas)"
   ]
  },
  {
   "cell_type": "code",
   "execution_count": 8,
   "metadata": {},
   "outputs": [],
   "source": [
    "import plotly.express as px\n",
    "import plotly.io as pio\n",
    "pio.renderers.default = 'notebook_connected'\n",
    "\n",
    "\n",
    "fig = px.scatter_mapbox(\n",
    "    plot_df,\n",
    "    lat= 'x', \n",
    "    lon=\"y\",\n",
    "    color='norm',\n",
    "    color_continuous_scale = ['blue','green','red'] ,  #'Turbo',  ['green','red']\n",
    "    size= np.ones(plot_df.shape[0])*50,\n",
    "    opacity=0.04,\n",
    "    mapbox_style='carto-positron',  \n",
    "    animation_frame = 'Year',\n",
    "    zoom=3,\n",
    ")\n",
    "\n",
    "#fig#.show()"
   ]
  },
  {
   "cell_type": "code",
   "execution_count": 7,
   "metadata": {},
   "outputs": [],
   "source": [
    "# path_name = \"C:/Users/demo/Downloads/\"\n",
    "fig.write_html(\"./maps/animated_plot.html\")"
   ]
  },
  {
   "cell_type": "markdown",
   "metadata": {},
   "source": [
    "-------------------------------------------------------"
   ]
  }
 ],
 "metadata": {
  "kernelspec": {
   "display_name": "Geo science",
   "language": "python",
   "name": "geo"
  },
  "language_info": {
   "codemirror_mode": {
    "name": "ipython",
    "version": 3
   },
   "file_extension": ".py",
   "mimetype": "text/x-python",
   "name": "python",
   "nbconvert_exporter": "python",
   "pygments_lexer": "ipython3",
   "version": "3.11.4"
  }
 },
 "nbformat": 4,
 "nbformat_minor": 4
}
